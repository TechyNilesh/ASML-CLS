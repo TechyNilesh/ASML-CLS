{
 "cells": [
  {
   "cell_type": "code",
   "execution_count": 1,
   "id": "5cf3d53a",
   "metadata": {},
   "outputs": [],
   "source": [
    "import json\n",
    "import os\n",
    "import matplotlib.pyplot as plt\n",
    "import pandas as pd \n",
    "import numpy as np\n",
    "import tqdm\n",
    "import re"
   ]
  },
  {
   "cell_type": "code",
   "execution_count": 2,
   "id": "21d2eda9",
   "metadata": {},
   "outputs": [],
   "source": [
    "def plot_smoothed_scores(score_lists, \n",
    "                         window_size, \n",
    "                         model_names, \n",
    "                         colors=None, \n",
    "                         line_styles=None, \n",
    "                         line_width=1.0, \n",
    "                         landscape=False, \n",
    "                         file_name='image'):\n",
    "#     def round_to_nearest_base(number):\n",
    "#         base = 10 ** (len(str(number)) - 1)\n",
    "#         return round(number / base) * base\n",
    "    def smooth_data(data):\n",
    "        smoothed_data = []\n",
    "        for i in range(len(data)):\n",
    "            start = max(0, i - window_size)\n",
    "            end = i + 1\n",
    "            window_data = data[start:end]\n",
    "            smoothed_data_point = sum(window_data) / len(window_data)\n",
    "            smoothed_data.append(smoothed_data_point)\n",
    "        return smoothed_data #[5:]\n",
    "\n",
    "    num_models = len(score_lists)\n",
    "    \n",
    "    # Define default colors if not provided\n",
    "    if colors is None:\n",
    "        colors = ['#d62728', '#2ca02c', '#1f77b4', '#ff7f0e', '#9467bd',\n",
    "                  '#8c564b', '#e377c2', '#7f7f7f', '#bcbd22', '#17becf']\n",
    "\n",
    "    # Define default line styles if not provided\n",
    "    if line_styles is None:\n",
    "        line_styles = ['-', '--', '-.', ':', '-', '--', '-.', ':', '-', '--']\n",
    "\n",
    "    # Determine the figure size based on landscape mode\n",
    "    if landscape:\n",
    "        figsize = (12, 6)\n",
    "    else:\n",
    "        figsize = (8, 6)\n",
    "\n",
    "    # Create a new figure with specific settings for a research paper\n",
    "    plt.figure(figsize=figsize)\n",
    "    ax = plt.gca()\n",
    "\n",
    "    for i in range(num_models):\n",
    "        # Smooth the data for each model\n",
    "        if model_names[i] in ['OnlineAutoML','OAML']:\n",
    "            smoothed_scores = smooth_data(score_lists[i])\n",
    "        else:\n",
    "            smoothed_scores = smooth_data(score_lists[i][5:])\n",
    "        \n",
    "        #smoothed_scores = score_lists[i]\n",
    "\n",
    "        # Plot smoothed metric scores with different colors, line styles, and line widths\n",
    "        #plt.plot(range(1, len(smoothed_scores) + 1), smoothed_scores, label=f\"{model_names[i]}({score_lists[i][-1]:.2f})\", color=colors[i], linestyle=line_styles[i], linewidth=line_width)\n",
    "        plt.plot(range(1, len(smoothed_scores) + 1), smoothed_scores, label=f\"{model_names[i]}\", color=colors[i], linestyle=line_styles[i], linewidth=line_width)\n",
    "\n",
    "    # Customize the axis labels and title\n",
    "    if landscape:\n",
    "        plt.xlabel('#Instances (in thousands)', fontsize=12)\n",
    "        plt.ylabel('Prequential Accuracy (%)', fontsize=12)\n",
    "        #plt.title(dataset_name.upper(), fontsize=14,y=1.06)\n",
    "    else:\n",
    "        plt.xlabel('#Instances (in thousands)', fontsize=12)\n",
    "        plt.ylabel('Prequential Accuracy (%)', fontsize=12)\n",
    "        #plt.title(dataset_name.upper(), fontsize=14,y=1.06)\n",
    "\n",
    "    # Customize the tick labels and grid\n",
    "    plt.xticks(fontsize=10)  # Set x-axis ticks in thousands\n",
    "    plt.yticks(fontsize=10)  # Set y-axis ticks in steps of 0.05\n",
    "    plt.grid(True, linestyle='--', alpha=0.7)\n",
    "\n",
    "    # Add a legend\n",
    "    #plt.legend(fontsize=14, ncol=7, loc='upper center', bbox_to_anchor=(0.5, 1.5))\n",
    "    plt.legend(fontsize=10)\n",
    "\n",
    "    # Adjust the layout and save the figure as a high-resolution image\n",
    "    plt.tight_layout()\n",
    "    \n",
    "    if landscape:\n",
    "        #pass\n",
    "        plt.savefig(f'charts/{file_name}.png', dpi=300)  # Save as a high-resolution image in landscape mode\n",
    "    else:\n",
    "        pass\n",
    "        plt.savefig(f'charts/{file_name}.png', dpi=300)  # Save as a high-resolution image in normal mode\n",
    "    \n",
    "    plt.show()"
   ]
  },
  {
   "cell_type": "code",
   "execution_count": 3,
   "id": "d8673635",
   "metadata": {},
   "outputs": [],
   "source": [
    "records = os.listdir(\"saved_results_json/\")"
   ]
  },
  {
   "cell_type": "code",
   "execution_count": 4,
   "id": "c7d6918e",
   "metadata": {},
   "outputs": [],
   "source": [
    "records = [_ for _ in records if _.split(\".\")[-1]=='json']"
   ]
  },
  {
   "cell_type": "code",
   "execution_count": 5,
   "id": "98141a42",
   "metadata": {},
   "outputs": [],
   "source": [
    "records = sorted(records)"
   ]
  },
  {
   "cell_type": "code",
   "execution_count": 6,
   "id": "ab54e06c",
   "metadata": {},
   "outputs": [
    {
     "data": {
      "text/plain": [
       "['ARFC_adult.json',\n",
       " 'ARFC_electricity.json',\n",
       " 'ARFC_forest_cover.json',\n",
       " 'ARFC_hyperplane_high_gradual_drift.json',\n",
       " 'ARFC_insects.json',\n",
       " 'ARFC_movingRBF.json',\n",
       " 'ARFC_moving_squares.json',\n",
       " 'ARFC_new_airlines.json',\n",
       " 'ARFC_sea_high_abrupt_drift.json',\n",
       " 'ARFC_sea_high_mixed_drift.json',\n",
       " 'ARFC_shuttle.json',\n",
       " 'ARFC_synth_RandomRBFDrift.json',\n",
       " 'ARFC_synth_agrawal.json',\n",
       " 'ARFC_vehicle_sensIT.json',\n",
       " 'AutoClass_adult.json',\n",
       " 'AutoClass_electricity.json',\n",
       " 'AutoClass_forest_cover.json',\n",
       " 'AutoClass_hyperplane_high_gradual_drift.json',\n",
       " 'AutoClass_insects.json',\n",
       " 'AutoClass_movingRBF.json',\n",
       " 'AutoClass_moving_squares.json',\n",
       " 'AutoClass_new_airlines.json',\n",
       " 'AutoClass_sea_high_abrupt_drift.json',\n",
       " 'AutoClass_sea_high_mixed_drift.json',\n",
       " 'AutoClass_shuttle.json',\n",
       " 'AutoClass_synth_RandomRBFDrift.json',\n",
       " 'AutoClass_synth_agrawal.json',\n",
       " 'AutoClass_vehicle_sensIT.json',\n",
       " 'AutoStreamML_Best_adult.json',\n",
       " 'AutoStreamML_Best_electricity.json',\n",
       " 'AutoStreamML_Best_forest_cover.json',\n",
       " 'AutoStreamML_Best_hyperplane_high_gradual_drift.json',\n",
       " 'AutoStreamML_Best_insects.json',\n",
       " 'AutoStreamML_Best_movingRBF.json',\n",
       " 'AutoStreamML_Best_moving_squares.json',\n",
       " 'AutoStreamML_Best_new_airlines.json',\n",
       " 'AutoStreamML_Best_sea_high_abrupt_drift.json',\n",
       " 'AutoStreamML_Best_sea_high_mixed_drift.json',\n",
       " 'AutoStreamML_Best_shuttle.json',\n",
       " 'AutoStreamML_Best_synth_RandomRBFDrift.json',\n",
       " 'AutoStreamML_Best_synth_agrawal.json',\n",
       " 'AutoStreamML_Best_vehicle_sensIT.json',\n",
       " 'AutoStreamML_Final_adult.json',\n",
       " 'AutoStreamML_Final_electricity.json',\n",
       " 'AutoStreamML_Final_forest_cover.json',\n",
       " 'AutoStreamML_Final_hyperplane_high_gradual_drift.json',\n",
       " 'AutoStreamML_Final_insects.json',\n",
       " 'AutoStreamML_Final_movingRBF.json',\n",
       " 'AutoStreamML_Final_moving_squares.json',\n",
       " 'AutoStreamML_Final_new_airlines.json',\n",
       " 'AutoStreamML_Final_sea_high_abrupt_drift.json',\n",
       " 'AutoStreamML_Final_sea_high_mixed_drift.json',\n",
       " 'AutoStreamML_Final_shuttle.json',\n",
       " 'AutoStreamML_Final_synth_RandomRBFDrift.json',\n",
       " 'AutoStreamML_Final_synth_agrawal.json',\n",
       " 'AutoStreamML_Final_vehicle_sensIT.json',\n",
       " 'EvoAutoML_adult.json',\n",
       " 'EvoAutoML_electricity.json',\n",
       " 'EvoAutoML_forest_cover.json',\n",
       " 'EvoAutoML_hyperplane_high_gradual_drift.json',\n",
       " 'EvoAutoML_insects.json',\n",
       " 'EvoAutoML_movingRBF.json',\n",
       " 'EvoAutoML_moving_squares.json',\n",
       " 'EvoAutoML_new_airlines.json',\n",
       " 'EvoAutoML_sea_high_abrupt_drift.json',\n",
       " 'EvoAutoML_sea_high_mixed_drift.json',\n",
       " 'EvoAutoML_shuttle.json',\n",
       " 'EvoAutoML_synth_RandomRBFDrift.json',\n",
       " 'EvoAutoML_synth_agrawal.json',\n",
       " 'EvoAutoML_vehicle_sensIT.json',\n",
       " 'HATC_adult.json',\n",
       " 'HATC_electricity.json',\n",
       " 'HATC_forest_cover.json',\n",
       " 'HATC_hyperplane_high_gradual_drift.json',\n",
       " 'HATC_insects.json',\n",
       " 'HATC_movingRBF.json',\n",
       " 'HATC_moving_squares.json',\n",
       " 'HATC_new_airlines.json',\n",
       " 'HATC_sea_high_abrupt_drift.json',\n",
       " 'HATC_sea_high_mixed_drift.json',\n",
       " 'HATC_shuttle.json',\n",
       " 'HATC_synth_RandomRBFDrift.json',\n",
       " 'HATC_synth_agrawal.json',\n",
       " 'HATC_vehicle_sensIT.json',\n",
       " 'OnlineAutoML_adult.json',\n",
       " 'OnlineAutoML_electricity.json',\n",
       " 'OnlineAutoML_forest_cover.json',\n",
       " 'OnlineAutoML_hyperplane_high_gradual_drift.json',\n",
       " 'OnlineAutoML_insects.json',\n",
       " 'OnlineAutoML_movingRBF.json',\n",
       " 'OnlineAutoML_moving_squares.json',\n",
       " 'OnlineAutoML_new_airlines.json',\n",
       " 'OnlineAutoML_sea_high_abrupt_drift.json',\n",
       " 'OnlineAutoML_sea_high_mixed_drift.json',\n",
       " 'OnlineAutoML_shuttle.json',\n",
       " 'OnlineAutoML_synth_RandomRBFDrift.json',\n",
       " 'OnlineAutoML_synth_agrawal.json',\n",
       " 'OnlineAutoML_vehicle_sensIT.json',\n",
       " 'SRPC_adult.json',\n",
       " 'SRPC_electricity.json',\n",
       " 'SRPC_forest_cover.json',\n",
       " 'SRPC_hyperplane_high_gradual_drift.json',\n",
       " 'SRPC_insects.json',\n",
       " 'SRPC_movingRBF.json',\n",
       " 'SRPC_moving_squares.json',\n",
       " 'SRPC_new_airlines.json',\n",
       " 'SRPC_sea_high_abrupt_drift.json',\n",
       " 'SRPC_sea_high_mixed_drift.json',\n",
       " 'SRPC_shuttle.json',\n",
       " 'SRPC_synth_RandomRBFDrift.json',\n",
       " 'SRPC_synth_agrawal.json',\n",
       " 'SRPC_vehicle_sensIT.json']"
      ]
     },
     "execution_count": 6,
     "metadata": {},
     "output_type": "execute_result"
    }
   ],
   "source": [
    "records"
   ]
  },
  {
   "cell_type": "code",
   "execution_count": 86,
   "id": "4af7edcd",
   "metadata": {},
   "outputs": [],
   "source": [
    "dataset_name_list = ['adult',\n",
    "                     'electricity',\n",
    "                     'forest_cover',\n",
    "                     'insects',\n",
    "                     'new_airlines',\n",
    "                     'shuttle',\n",
    "                     'vehicle_sensIT',\n",
    "                     'hyperplane_high_gradual_drift',\n",
    "                     'movingRBF',\n",
    "                     'moving_squares',\n",
    "                     'sea_high_abrupt_drift',\n",
    "                     'sea_high_mixed_drift',\n",
    "                     'synth_RandomRBFDrift',\n",
    "                     'synth_agrawal']"
   ]
  },
  {
   "cell_type": "code",
   "execution_count": 7,
   "id": "a3e24b15",
   "metadata": {},
   "outputs": [],
   "source": [
    "def extract_name_from_file_names(file_name,model_name):\n",
    "    \n",
    "    pattern = f'{model_name}_(.*?).json'\n",
    "\n",
    "    match = re.search(pattern, file_name)\n",
    "    \n",
    "    if match:\n",
    "        return  match.group(1)\n",
    "\n",
    "    return None"
   ]
  },
  {
   "cell_type": "code",
   "execution_count": 8,
   "id": "bdec7dbc",
   "metadata": {},
   "outputs": [],
   "source": [
    "models = ['AutoStreamML_Final','AutoStreamML_Best','AutoClass','OnlineAutoML','EvoAutoML','ARFC','SRPC','HATC']"
   ]
  },
  {
   "cell_type": "code",
   "execution_count": 3,
   "id": "6bbb5dfb",
   "metadata": {},
   "outputs": [
    {
     "data": {
      "text/plain": [
       "'synth_agrawal'"
      ]
     },
     "execution_count": 3,
     "metadata": {},
     "output_type": "execute_result"
    }
   ],
   "source": [
    "# Chnage Dataset anme on by one from dataset list given above\n",
    "dataset_name = 'synth_agrawal'\n",
    "dataset_name"
   ]
  },
  {
   "cell_type": "code",
   "execution_count": 10,
   "id": "6872b24a",
   "metadata": {},
   "outputs": [
    {
     "name": "stderr",
     "output_type": "stream",
     "text": [
      "100%|██████████| 8/8 [00:00<00:00,  9.97it/s]\n"
     ]
    }
   ],
   "source": [
    "model_names = []\n",
    "p_scores_list = []\n",
    "w_scores_list = []\n",
    "times_list = []\n",
    "memeories_list = []\n",
    "for model_name in tqdm.tqdm(models):\n",
    "    for record in records:\n",
    "            dn = extract_name_from_file_names(record,model_name)\n",
    "            #print(dn)\n",
    "            if dataset_name==dn:\n",
    "                with open(f'saved_results_json/{record}', 'r') as json_file:\n",
    "                    record_dict = json.load(json_file)\n",
    "                model_names.append(record_dict['model'])\n",
    "                p_scores_list.append([i*100 for i in record_dict['prequential_scores']])\n",
    "                w_scores_list.append([i*100 for i in record_dict['windows_scores']])\n",
    "                times_list.append(record_dict['time'])\n",
    "                #memeories_list.append([0 if i<0 else i/1024/1024 for i in record_dict['memeory']])\n",
    "                memeories_list.append([i for i in record_dict['memory']])"
   ]
  },
  {
   "cell_type": "code",
   "execution_count": 11,
   "id": "6f9264fa",
   "metadata": {},
   "outputs": [
    {
     "data": {
      "text/plain": [
       "['AutoStreamML_Final',\n",
       " 'AutoStreamML_Best',\n",
       " 'AutoClass',\n",
       " 'OnlineAutoML',\n",
       " 'EvoAutoML',\n",
       " 'ARFC',\n",
       " 'SRPC',\n",
       " 'HATC']"
      ]
     },
     "execution_count": 11,
     "metadata": {},
     "output_type": "execute_result"
    }
   ],
   "source": [
    "model_names"
   ]
  },
  {
   "cell_type": "code",
   "execution_count": 12,
   "id": "324a60a2",
   "metadata": {},
   "outputs": [],
   "source": [
    "model_names = ['ASML_E','ASML_B','AutoClass','OAML','EAML','ARFC','SRPC','HATC']"
   ]
  },
  {
   "cell_type": "code",
   "execution_count": null,
   "id": "36759454",
   "metadata": {},
   "outputs": [],
   "source": [
    "plot_smoothed_scores(score_lists=w_scores_list,\n",
    "                     window_size=1, # chnage window size its smooth the chart\n",
    "                     model_names=model_names,\n",
    "                     line_width=1.5,\n",
    "                     landscape=True,\n",
    "                     file_name=f'asml_comp_baseline_{dataset_name}') # name of the model to save in folder"
   ]
  },
  {
   "cell_type": "markdown",
   "id": "548b4f95",
   "metadata": {},
   "source": [
    "# Memory and Time Usage Plot"
   ]
  },
  {
   "cell_type": "code",
   "execution_count": 10,
   "id": "956bd51c",
   "metadata": {},
   "outputs": [],
   "source": [
    "file_name = \"asml_memory_comp_plot\""
   ]
  },
  {
   "cell_type": "code",
   "execution_count": 11,
   "id": "7326250f",
   "metadata": {},
   "outputs": [
    {
     "data": {
      "image/png": "[encoded data removed]",
      "text/plain": [
       "<Figure size 864x432 with 1 Axes>"
      ]
     },
     "metadata": {
      "needs_background": "light"
     },
     "output_type": "display_data"
    }
   ],
   "source": [
    "import matplotlib.pyplot as plt\n",
    "\n",
    "# Data\n",
    "models = ['ASML_E','ASML_B','AutoClass','OAML','EAML','ARFC','SRPC','HATC']\n",
    "#time_seconds = [1720.47, 905.81, 3317.28, 3432.90, 2502.05, 426.60,1310.61,292.86]\n",
    "memory_mb = [25.62, 22.80, 190.88, 34.95, 63.33, 35.91, 58.14, 14.96]\n",
    "\n",
    "# Color sequence\n",
    "colors = ['#d62728', '#2ca02c', '#1f77b4', '#ff7f0e', '#9467bd',\n",
    "                  '#8c564b', '#e377c2', '#7f7f7f', '#bcbd22', '#17becf']\n",
    "\n",
    "# Set the figsize\n",
    "plt.figure(figsize=(12, 6))\n",
    "\n",
    "# Plotting the bar chart with specified colors\n",
    "#plt.bar(models, time_seconds, color=colors)\n",
    "plt.bar(models, memory_mb, color=colors)\n",
    "plt.xlabel('Models', fontsize=18)\n",
    "#plt.ylabel('Time (Seconds)', fontsize=18)\n",
    "plt.ylabel('Memory (MB)', fontsize=18)\n",
    "#plt.title('Execution Time for Different Models')\n",
    "plt.xticks(rotation=45, ha='right', fontsize=18)  # Rotate x-axis labels for better readability\n",
    "plt.yticks(fontsize=18)\n",
    "plt.tight_layout()  # Ensure labels are not cut off\n",
    "\n",
    "\n",
    "plt.savefig(f'charts/{file_name}.png',dpi=300,bbox_inches='tight')\n",
    "# Show the plot\n",
    "plt.show()"
   ]
  }
 ],
 "metadata": {
  "kernelspec": {
   "display_name": "Python 3",
   "language": "python",
   "name": "python3"
  },
  "language_info": {
   "codemirror_mode": {
    "name": "ipython",
    "version": 3
   },
   "file_extension": ".py",
   "mimetype": "text/x-python",
   "name": "python",
   "nbconvert_exporter": "python",
   "pygments_lexer": "ipython3",
   "version": "3.8.8"
  }
 },
 "nbformat": 4,
 "nbformat_minor": 5
}
